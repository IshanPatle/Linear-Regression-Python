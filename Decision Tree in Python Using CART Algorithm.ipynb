{
 "cells": [
  {
   "cell_type": "code",
   "execution_count": 1,
   "metadata": {},
   "outputs": [],
   "source": [
    "#sample data\n",
    "#each row is an example\n",
    "#the first two columns are features\n",
    "#the last row is the label\n",
    "\n",
    "training_data = [\n",
    "    ['Green', 3, 'Mango'],\n",
    "    ['Yellow', 3, 'Mango'],\n",
    "    ['Red' , 1, 'Grape'],\n",
    "    ['Red', 1, 'Grape'],\n",
    "    ['Yellow', 3, 'Lemon']\n",
    "]\n",
    "\n",
    "     \n",
    "    "
   ]
  },
  {
   "cell_type": "code",
   "execution_count": 2,
   "metadata": {},
   "outputs": [],
   "source": [
    "#adding column labels\n",
    "header = ['color', 'diameter', 'label']\n",
    "\n",
    "def unique_vals(rows, cols):\n",
    "    return set([row[cols] for row in rows])\n",
    "\n",
    "#example\n",
    "#unique_vals(training_data, 0) -> finding uinque vals in terms of color\n",
    "#unique_vals(training_data, 1) -> finding uinque vals in terms of diameter"
   ]
  },
  {
   "cell_type": "code",
   "execution_count": 3,
   "metadata": {},
   "outputs": [],
   "source": [
    "\n",
    "def class_counts(rows):\n",
    "    counts  = {}\n",
    "    for row in rows:\n",
    "        label = row[-1] # as our label is in the last column\n",
    "        if label not in counts:\n",
    "            counts[label] = 0\n",
    "        counts[label] += 1\n",
    "    return counts"
   ]
  },
  {
   "cell_type": "code",
   "execution_count": 4,
   "metadata": {},
   "outputs": [],
   "source": [
    "def is_numeric(value):\n",
    "    return isinstance(value, int) or isinstance(value, float)\n"
   ]
  },
  {
   "cell_type": "code",
   "execution_count": 5,
   "metadata": {},
   "outputs": [],
   "source": [
    "'''A question is used to partition the dataset. \n",
    "this class records the 'column number'(0 for colour) and a \n",
    "'column value' (green). The 'match' methood is used to compare\n",
    "the feature value in an example to the feature value stored in \n",
    "the question.\n",
    "'''\n",
    "\n",
    "class Question:\n",
    "    def __init__(self, column, value):\n",
    "        self.column = column\n",
    "        self.value = value\n",
    "        \n",
    "    def match(self, example):\n",
    "        val = example[self.column]\n",
    "        if is_numeric(val):\n",
    "            return val >= self.value\n",
    "        else:\n",
    "            return val == self.value\n",
    "        \n",
    "    def __repr__(self):   #helper method to print the que in readable format\n",
    "        condition = '=='\n",
    "        if is_numeric(self.value):\n",
    "            condition = '>='\n",
    "        return 'Is %s %s %s?' % (\n",
    "            header[self.column], condition, str(self.value))"
   ]
  },
  {
   "cell_type": "code",
   "execution_count": 6,
   "metadata": {},
   "outputs": [
    {
     "data": {
      "text/plain": [
       "\"lets partition the trainig data based on whether rows are red\\ntrue_rows, false_rows = partition(training_data, Question(0, 'red'))\\nit will contain all the red rows  <- true_rows\\n\""
      ]
     },
     "execution_count": 6,
     "metadata": {},
     "output_type": "execute_result"
    }
   ],
   "source": [
    "\"\"\"this method is use to partition the dataset\n",
    "for each row in the dataset, it check is it matches the question\n",
    "if it does it adds it to 'true rows' or to 'false rows'\n",
    "\"\"\"\n",
    "\n",
    "def partition(rows, question):\n",
    "    true_rows, false_rows = [], []\n",
    "    for row in rows:\n",
    "        if question.match(row):\n",
    "            true_rows.append(row)\n",
    "        else:\n",
    "            false_rows.append(row)\n",
    "    return true_rows, false_rows\n",
    "\n",
    "\"\"\"lets partition the trainig data based on whether rows are red\n",
    "true_rows, false_rows = partition(training_data, Question(0, 'red'))\n",
    "it will contain all the red rows  <- true_rows\n",
    "\"\"\"\n",
    "    \n"
   ]
  },
  {
   "cell_type": "markdown",
   "metadata": {},
   "source": [
    "# Decisison Tree Algo Imlementation"
   ]
  },
  {
   "cell_type": "code",
   "execution_count": 7,
   "metadata": {},
   "outputs": [],
   "source": [
    "def gini(rows):\n",
    "    counts = class_counts(rows)\n",
    "    impurity = 1\n",
    "    for label in counts:\n",
    "        prob_label = counts[label]/float(len(rows))\n",
    "        impurity -= prob_label**2\n",
    "    return impurity"
   ]
  },
  {
   "cell_type": "code",
   "execution_count": 8,
   "metadata": {},
   "outputs": [],
   "source": [
    "def info_gain(left, right, current_uncertainity):\n",
    "    p = float(len(left))/(len(left)+len(right))\n",
    "    return current_uncertainity - p*gini(left) - (1-p)*gini(right)"
   ]
  },
  {
   "cell_type": "code",
   "execution_count": 9,
   "metadata": {},
   "outputs": [],
   "source": [
    "def find_best_split(rows):\n",
    "    best_gain = 0\n",
    "    best_question = None\n",
    "    current_uncertainity = gini(rows)\n",
    "    n_features = len(rows[0])-1\n",
    "    \n",
    "    for col in range(n_features):\n",
    "        values = set([row[col] for row in rows])\n",
    "        \n",
    "        for val in values:\n",
    "            question = Question(col,val)\n",
    "            true_rows, false_rows = partition(rows, question)\n",
    "            if len(true_rows) == 0 or len(false_rows) == 0:\n",
    "                continue\n",
    "            gain = info_gain(true_rows, false_rows, current_uncertainity)\n",
    "            \n",
    "            if gain >= best_gain:\n",
    "                best_gain, best_question = gain, question\n",
    "                \n",
    "    return best_gain, best_question"
   ]
  },
  {
   "cell_type": "code",
   "execution_count": 10,
   "metadata": {},
   "outputs": [],
   "source": [
    "class Leaf:\n",
    "    def __init__(self, rows):\n",
    "        self.predictions = class_counts(rows)\n",
    "        \n",
    "class Decision_Node:\n",
    "    def __init__(self,\n",
    "                question,\n",
    "                true_branch,\n",
    "                false_branch):\n",
    "        self.question = question\n",
    "        self.true_branch = true_branch\n",
    "        self.false_branch = false_branch"
   ]
  },
  {
   "cell_type": "code",
   "execution_count": 11,
   "metadata": {},
   "outputs": [],
   "source": [
    "def build_tree(rows):\n",
    "    gain, question = find_best_split(rows)\n",
    "    if gain ==0:\n",
    "        return Leaf(rows)\n",
    "    true_rows, false_rows = partition(rows, question)\n",
    "    true_branch = build_tree(true_rows)\n",
    "    false_branch = build_tree(false_rows)\n",
    "    \n",
    "    return Decision_Node(question, true_branch, false_branch)"
   ]
  },
  {
   "cell_type": "code",
   "execution_count": 12,
   "metadata": {},
   "outputs": [],
   "source": [
    "def print_tree(node, spacing=''):\n",
    "    if isinstance(node, Leaf):\n",
    "        print(spacing+\"predict\", node.predictions)\n",
    "        return\n",
    "    print(spacing + str(node.question))\n",
    "    print(spacing + '--> True :')\n",
    "    print_tree(node.true_branch, spacing + \" \")\n",
    "    print(spacing + '--> False :')\n",
    "    print_tree(node.false_branch, spacing + \" \")\n",
    "\n"
   ]
  },
  {
   "cell_type": "code",
   "execution_count": 13,
   "metadata": {},
   "outputs": [],
   "source": [
    "def classify(row, node):\n",
    "    if isinstance(node, Leaf):\n",
    "        return node.predictions\n",
    "    if node.question.match(row):\n",
    "        return classify(row, node.true_branch)\n",
    "    else:\n",
    "        return classify(row, node.false_branch)"
   ]
  },
  {
   "cell_type": "code",
   "execution_count": 14,
   "metadata": {},
   "outputs": [],
   "source": [
    "def print_leaf(counts):\n",
    "    total = sum(counts.values())*1.0\n",
    "    probs ={}\n",
    "    for label in counts.keys():\n",
    "        probs[label] = str(int(counts[label]/total*100))+'%'\n",
    "    return probs"
   ]
  },
  {
   "cell_type": "code",
   "execution_count": 15,
   "metadata": {},
   "outputs": [
    {
     "name": "stdout",
     "output_type": "stream",
     "text": [
      "Is diameter >= 3?\n",
      "--> True :\n",
      " Is color == Yellow?\n",
      " --> True :\n",
      "  predict {'Mango': 1, 'Lemon': 1}\n",
      " --> False :\n",
      "  predict {'Mango': 1}\n",
      "--> False :\n",
      " predict {'Grape': 2}\n",
      "Actual : Mango. Predicted : {'Mango': '100%'}\n",
      "Actual : Mango. Predicted : {'Mango': '50%', 'Lemon': '50%'}\n",
      "Actual : Grape. Predicted : {'Grape': '100%'}\n",
      "Actual : Grape. Predicted : {'Grape': '100%'}\n",
      "Actual : Lemon. Predicted : {'Mango': '50%', 'Lemon': '50%'}\n"
     ]
    }
   ],
   "source": [
    "if __name__ == '__main__':\n",
    "    my_tree = build_tree(training_data)\n",
    "    print_tree(my_tree)\n",
    "    testing_data = [\n",
    "        ['Green', 3, 'Mango'],\n",
    "        ['Yellow', 3, 'Mango'],\n",
    "        ['Red' , 1, 'Grape'],\n",
    "        ['Red', 1, 'Grape'],\n",
    "        ['Yellow', 3, 'Lemon']\n",
    "    ]\n",
    "    \n",
    "    for row in testing_data:\n",
    "        print('Actual : %s. Predicted : %s' %\n",
    "              (row[-1], print_leaf(classify(row, my_tree))))\n",
    "    "
   ]
  },
  {
   "cell_type": "code",
   "execution_count": null,
   "metadata": {},
   "outputs": [],
   "source": []
  },
  {
   "cell_type": "code",
   "execution_count": null,
   "metadata": {},
   "outputs": [],
   "source": []
  }
 ],
 "metadata": {
  "kernelspec": {
   "display_name": "Python 3",
   "language": "python",
   "name": "python3"
  },
  "language_info": {
   "codemirror_mode": {
    "name": "ipython",
    "version": 3
   },
   "file_extension": ".py",
   "mimetype": "text/x-python",
   "name": "python",
   "nbconvert_exporter": "python",
   "pygments_lexer": "ipython3",
   "version": "3.7.7"
  }
 },
 "nbformat": 4,
 "nbformat_minor": 2
}
